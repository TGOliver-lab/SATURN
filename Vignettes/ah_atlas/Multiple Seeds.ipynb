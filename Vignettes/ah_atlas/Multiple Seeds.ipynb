{
 "cells": [
  {
   "cell_type": "markdown",
   "id": "6de8f8ac",
   "metadata": {},
   "source": [
    "# Run SPEAR to integrate the AH atlas"
   ]
  },
  {
   "cell_type": "markdown",
   "id": "b396cc36",
   "metadata": {},
   "source": [
    "## Make the run csv file"
   ]
  },
  {
   "cell_type": "code",
   "execution_count": 5,
   "id": "5ecfcfb7",
   "metadata": {},
   "outputs": [
    {
     "data": {
      "text/html": [
       "<div>\n",
       "<style scoped>\n",
       "    .dataframe tbody tr th:only-of-type {\n",
       "        vertical-align: middle;\n",
       "    }\n",
       "\n",
       "    .dataframe tbody tr th {\n",
       "        vertical-align: top;\n",
       "    }\n",
       "\n",
       "    .dataframe thead th {\n",
       "        text-align: right;\n",
       "    }\n",
       "</style>\n",
       "<table border=\"1\" class=\"dataframe\">\n",
       "  <thead>\n",
       "    <tr style=\"text-align: right;\">\n",
       "      <th></th>\n",
       "      <th>path</th>\n",
       "      <th>species</th>\n",
       "      <th>embedding_path</th>\n",
       "    </tr>\n",
       "  </thead>\n",
       "  <tbody>\n",
       "    <tr>\n",
       "      <th>0</th>\n",
       "      <td>Vignettes/ah_atlas/data/human.h5ad</td>\n",
       "      <td>human</td>\n",
       "      <td>/dfs/project/cross-species/yanay/data/proteome...</td>\n",
       "    </tr>\n",
       "    <tr>\n",
       "      <th>1</th>\n",
       "      <td>Vignettes/ah_atlas/data/mouse.h5ad</td>\n",
       "      <td>mouse</td>\n",
       "      <td>/dfs/project/cross-species/yanay/data/proteome...</td>\n",
       "    </tr>\n",
       "    <tr>\n",
       "      <th>2</th>\n",
       "      <td>Vignettes/ah_atlas/data/pig.h5ad</td>\n",
       "      <td>pig</td>\n",
       "      <td>/dfs/project/cross-species/yanay/data/proteome...</td>\n",
       "    </tr>\n",
       "    <tr>\n",
       "      <th>3</th>\n",
       "      <td>Vignettes/ah_atlas/data/macaF.h5ad</td>\n",
       "      <td>macaF</td>\n",
       "      <td>/dfs/project/cross-species/yanay/data/proteome...</td>\n",
       "    </tr>\n",
       "    <tr>\n",
       "      <th>4</th>\n",
       "      <td>Vignettes/ah_atlas/data/macaM.h5ad</td>\n",
       "      <td>macaM</td>\n",
       "      <td>/dfs/project/cross-species/yanay/data/proteome...</td>\n",
       "    </tr>\n",
       "  </tbody>\n",
       "</table>\n",
       "</div>"
      ],
      "text/plain": [
       "                                 path species  \\\n",
       "0  Vignettes/ah_atlas/data/human.h5ad   human   \n",
       "1  Vignettes/ah_atlas/data/mouse.h5ad   mouse   \n",
       "2    Vignettes/ah_atlas/data/pig.h5ad     pig   \n",
       "3  Vignettes/ah_atlas/data/macaF.h5ad   macaF   \n",
       "4  Vignettes/ah_atlas/data/macaM.h5ad   macaM   \n",
       "\n",
       "                                      embedding_path  \n",
       "0  /dfs/project/cross-species/yanay/data/proteome...  \n",
       "1  /dfs/project/cross-species/yanay/data/proteome...  \n",
       "2  /dfs/project/cross-species/yanay/data/proteome...  \n",
       "3  /dfs/project/cross-species/yanay/data/proteome...  \n",
       "4  /dfs/project/cross-species/yanay/data/proteome...  "
      ]
     },
     "execution_count": 5,
     "metadata": {},
     "output_type": "execute_result"
    }
   ],
   "source": [
    "# Make the csv\n",
    "import pandas as pd\n",
    "\n",
    "df = pd.DataFrame(columns=[\"path\", \"species\", \"embedding_path\"])\n",
    "df[\"species\"] = [\"human\", \"mouse\", \"pig\", \"macaF\", \"macaM\"]\n",
    "df[\"path\"] = [\"Vignettes/ah_atlas/data/human.h5ad\", \"Vignettes/ah_atlas/data/mouse.h5ad\", \n",
    "              \"Vignettes/ah_atlas/data/pig.h5ad\", \"Vignettes/ah_atlas/data/macaF.h5ad\", \"Vignettes/ah_atlas/data/macaM.h5ad\"]\n",
    "\n",
    "##### CHANGE THESE PATHS #####\n",
    "human_embedding_path = \"/dfs/project/cross-species/yanay/data/proteome/embeddings/Homo_sapiens.GRCh38.gene_symbol_to_embedding_ESM2.pt\"\n",
    "mouse_embedding_path = \"/dfs/project/cross-species/yanay/data/proteome/embeddings/Mus_musculus.GRCm39.gene_symbol_to_embedding_ESM2.pt\"\n",
    "pig_path = \"/dfs/project/cross-species/yanay/data/proteome/embeddings/Sus_scrofa.Sscrofa11.1.gene_symbol_to_embedding_ESM2.pt\"\n",
    "macaF_path = \"/dfs/project/cross-species/yanay/data/proteome/embeddings/Macaca_fascicularis.Macaca_fascicularis_6.0.gene_symbol_to_embedding_ESM2.pt\"\n",
    "macaM_path = \"/dfs/project/cross-species/yanay/data/proteome/embeddings/Macaca_mulatta.Mmul_10.gene_symbol_to_embedding_ESM2.pt\"\n",
    "##############################\n",
    "df[\"embedding_path\"] = [human_embedding_path, mouse_embedding_path, pig_path, macaF_path, macaM_path]\n",
    "df.to_csv(\"data/ah_atlas_run.csv\", index=False)\n",
    "df"
   ]
  },
  {
   "cell_type": "code",
   "execution_count": 9,
   "id": "2c90122d",
   "metadata": {},
   "outputs": [
    {
     "name": "stdout",
     "output_type": "stream",
     "text": [
      "['2', '3', '4', '5']\n",
      "  0%|                                                     | 0/1 [00:00<?, ?it/s]RUNNING SEED: 0 ON GPU:2\n",
      "100%|████████████████████████████████████████████| 1/1 [00:00<00:00, 424.87it/s]\n",
      "Global seed set to 0\n",
      "Intel(R) Extension for Scikit-learn* enabled (https://github.com/intel/scikit-learn-intelex)\n",
      "OpenBLAS warning: precompiled NUM_THREADS exceeded, adding auxiliary array for thread metadata.\n",
      "OpenBLAS warning: precompiled NUM_THREADS exceeded, adding auxiliary array for thread metadata.\n"
     ]
    }
   ],
   "source": [
    "!cd ../../ ; python3 spear_multiple_seeds.py \\\n",
    "                --run=Vignettes/ah_atlas/data/ah_atlas_run.csv \\\n",
    "                --gpus 2 3 4 5 \\\n",
    "                --seeds=1"
   ]
  },
  {
   "cell_type": "code",
   "execution_count": null,
   "id": "2c5e85bb",
   "metadata": {},
   "outputs": [],
   "source": []
  }
 ],
 "metadata": {
  "kernelspec": {
   "display_name": "Python 3 (ipykernel)",
   "language": "python",
   "name": "python3"
  },
  "language_info": {
   "codemirror_mode": {
    "name": "ipython",
    "version": 3
   },
   "file_extension": ".py",
   "mimetype": "text/x-python",
   "name": "python",
   "nbconvert_exporter": "python",
   "pygments_lexer": "ipython3",
   "version": "3.8.10"
  }
 },
 "nbformat": 4,
 "nbformat_minor": 5
}
