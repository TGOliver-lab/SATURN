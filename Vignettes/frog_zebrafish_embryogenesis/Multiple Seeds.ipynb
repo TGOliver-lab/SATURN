{
 "cells": [
  {
   "cell_type": "markdown",
   "id": "261a148a",
   "metadata": {},
   "source": [
    "# Replicate Figures 1, 2 and 3"
   ]
  },
  {
   "cell_type": "markdown",
   "id": "da1fc2d5",
   "metadata": {},
   "source": [
    "To replicate SATURN results for frog and zebrafish embryogenesis you need to run SATURN 30 times with different seeds.\n",
    "\n",
    "To more easily do this analysis, we have provided a python script that will run SATURN a certain number of times.\n",
    "\n",
    "\n",
    "**NOTE: run the Train SATURN vignette first, `Vignettes/frog_zebrafish_embryogenesis/Train SATURN.ipynb`**"
   ]
  },
  {
   "cell_type": "code",
   "execution_count": 1,
   "id": "c65f72fd",
   "metadata": {},
   "outputs": [],
   "source": [
    "# Make a path fixed copy of the run file from the vignette\n",
    "import pandas as pd\n",
    "run_df = pd.read_csv(\"data/frog_zebrafish_run.csv\")\n",
    "run_df[\"path\"] = [\"Vignettes/frog_zebrafish_embryogenesis/\" + path for path in run_df[\"path\"] ]\n",
    "run_df.to_csv(\"data/frog_zebrafish_run_multi.csv\", index=False)"
   ]
  },
  {
   "cell_type": "markdown",
   "id": "6bc9f4e7",
   "metadata": {},
   "source": [
    "# Run the 30 seeds"
   ]
  },
  {
   "cell_type": "markdown",
   "id": "2fe18d19",
   "metadata": {},
   "source": [
    "*This will take a while*"
   ]
  },
  {
   "cell_type": "code",
   "execution_count": null,
   "id": "05b0b662",
   "metadata": {
    "scrolled": true
   },
   "outputs": [
    {
     "name": "stdout",
     "output_type": "stream",
     "text": [
      "['1', '3', '4']\n",
      "  0%|                                                     | 0/3 [00:00<?, ?it/s]RUNNING SEED: 0 ON GPU:1\n",
      "RUNNING SEED: 1 ON GPU:3\n",
      "RUNNING SEED: 2 ON GPU:4\n",
      "Global seed set to 0\n",
      "Global seed set to 0\n",
      "Global seed set to 0\n",
      "Intel(R) Extension for Scikit-learn* enabled (https://github.com/intel/scikit-learn-intelex)\n",
      "Intel(R) Extension for Scikit-learn* enabled (https://github.com/intel/scikit-learn-intelex)\n",
      "Intel(R) Extension for Scikit-learn* enabled (https://github.com/intel/scikit-learn-intelex)\n",
      "Epoch 200: L1 Loss 0.0 Rank Loss 12.251686096191406, Avg Loss frog: 1862, Avg Lo\n",
      "100%|█████████████████████████████████████████| 157/157 [00:17<00:00,  9.18it/s]\n",
      "Epoch 200: L1 Loss 0.0 Rank Loss 12.439830780029297, Avg Loss frog: 1862, Avg Lo\n",
      "100%|█████████████████████████████████████████| 157/157 [00:17<00:00,  8.90it/s]\n",
      "Epoch 200: L1 Loss 0.0 Rank Loss 12.111682891845703, Avg Loss frog: 1862, Avg Lo\n",
      "100%|█████████████████████████████████████████| 157/157 [00:17<00:00,  9.05it/s]\n",
      "100%|█████████████████████████████████████████| 157/157 [00:08<00:00, 18.16it/s]\n",
      "100%|█████████████████████████████████████████| 3/3 [1:49:45<00:00, 2195.06s/it]\n"
     ]
    }
   ],
   "source": [
    "!cd ../../ ; python3 saturn_multiple_seeds.py \\\n",
    "                --run=Vignettes/frog_zebrafish_embryogenesis/data/frog_zebrafish_run_multi.csv \\\n",
    "                --gpus 1 3 4 \\\n",
    "                --seeds=3"
   ]
  },
  {
   "cell_type": "markdown",
   "id": "0c23d77d",
   "metadata": {},
   "source": [
    "# Score the 30 seeds"
   ]
  },
  {
   "cell_type": "markdown",
   "id": "753005f1",
   "metadata": {},
   "source": [
    "We now need to score each SATURN run. First, we create a csv file mapping each run to a path."
   ]
  },
  {
   "cell_type": "code",
   "execution_count": null,
   "id": "fb54278a",
   "metadata": {},
   "outputs": [],
   "source": [
    "from glob import glob\n",
    "\n",
    "fz_adatas = glob(\"../multiple_seeds_results/saturn_results/*.h5ad\")\n",
    "fz_adatas = [path.replace(\"..\", \"Vignettes\") for path in fz_adatas if \"pretrain\" not in path and \"frog\" in path]\n",
    "seeds = [path.split(\"_\")[-1].replace(\".h5ad\", \"\") for path in fz_adatas]\n",
    "fz_adatas, seeds\n",
    "\n",
    "import pandas as pd\n",
    "score_df = pd.DataFrame()\n",
    "score_df[\"seed\"] = seeds\n",
    "score_df[\"path\"] = fz_adatas\n",
    "display(score_df.head())\n",
    "score_df.to_csv(\"./data/fz_multi_seeds.csv\", index=False)"
   ]
  },
  {
   "cell_type": "code",
   "execution_count": null,
   "id": "c3b2e934",
   "metadata": {},
   "outputs": [],
   "source": [
    "!cd ../../ ; python3 score_adata.py --adata=Vignettes/frog_zebrafish_embryogenesis/data/fz_multi_seeds.csv --scores=1 \\\n",
    "                                 --multiple_files --species1=zebrafish --species2=frog --label=labels2 \\\n",
    "                                 --ct_map=Vignettes/frog_zebrafish_embryogenesis/data/frog_zebrafish_cell_type_map.csv"
   ]
  },
  {
   "cell_type": "markdown",
   "id": "4fb9d95f",
   "metadata": {},
   "source": [
    "The script will save a copy with scores to `\"./data/fz_multi_seeds_scores.csv\"`"
   ]
  },
  {
   "cell_type": "code",
   "execution_count": null,
   "id": "db8d8b07",
   "metadata": {},
   "outputs": [],
   "source": [
    "pd.read_csv(\"./data/fz_multi_seeds_scores.csv\")"
   ]
  }
 ],
 "metadata": {
  "kernelspec": {
   "display_name": "Python 3 (ipykernel)",
   "language": "python",
   "name": "python3"
  },
  "language_info": {
   "codemirror_mode": {
    "name": "ipython",
    "version": 3
   },
   "file_extension": ".py",
   "mimetype": "text/x-python",
   "name": "python",
   "nbconvert_exporter": "python",
   "pygments_lexer": "ipython3",
   "version": "3.8.10"
  }
 },
 "nbformat": 4,
 "nbformat_minor": 5
}
