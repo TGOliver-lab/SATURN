{
 "cells": [
  {
   "cell_type": "markdown",
   "id": "e06271e5",
   "metadata": {},
   "source": [
    "# Replicate Figures 1, 2 and 3"
   ]
  },
  {
   "cell_type": "markdown",
   "id": "958f3791",
   "metadata": {},
   "source": [
    "To replicate SPEAR results for frog and zebrafish embryogenesis you need to run SPEAR 30 times with different seeds.\n",
    "\n",
    "To more easily do this analysis, we have provided a python script that will run SPEAR a certain number of times.\n",
    "\n",
    "\n",
    "**NOTE: run the Train Spear vignette first, `Vignettes/frog_zebrafish_embryogenesis/Train Spear.ipynb`**"
   ]
  },
  {
   "cell_type": "code",
   "execution_count": 13,
   "id": "e1099b0e",
   "metadata": {},
   "outputs": [],
   "source": [
    "# Make a path fixed copy of the run file from the vignette\n",
    "import pandas as pd\n",
    "run_df = pd.read_csv(\"data/frog_zebrafish_run.csv\")\n",
    "run_df[\"path\"] = [\"Vignettes/frog_zebrafish_embryogenesis/\" + path for path in run_df[\"path\"] ]\n",
    "run_df.to_csv(\"data/frog_zebrafish_run_multi.csv\", index=False)"
   ]
  },
  {
   "cell_type": "markdown",
   "id": "32391834",
   "metadata": {},
   "source": [
    "# Run the 30 seeds"
   ]
  },
  {
   "cell_type": "markdown",
   "id": "6ec81780",
   "metadata": {},
   "source": [
    "*This will take a while*"
   ]
  },
  {
   "cell_type": "code",
   "execution_count": 14,
   "id": "d9087120",
   "metadata": {
    "scrolled": true
   },
   "outputs": [
    {
     "name": "stdout",
     "output_type": "stream",
     "text": [
      "['2', '3', '4', '5']\n",
      "  0%|                                                     | 0/4 [00:00<?, ?it/s]RUNNING SEED: 0 ON GPU:2\n",
      "RUNNING SEED: 1 ON GPU:3\n",
      "RUNNING SEED: 2 ON GPU:4\n",
      "RUNNING SEED: 3 ON GPU:5\n",
      "Global seed set to 0\n",
      "Global seed set to 0\n",
      "Global seed set to 0\n",
      "Global seed set to 0\n",
      "Intel(R) Extension for Scikit-learn* enabled (https://github.com/intel/scikit-learn-intelex)\n",
      "Intel(R) Extension for Scikit-learn* enabled (https://github.com/intel/scikit-learn-intelex)\n",
      "Intel(R) Extension for Scikit-learn* enabled (https://github.com/intel/scikit-learn-intelex)\n",
      "Intel(R) Extension for Scikit-learn* enabled (https://github.com/intel/scikit-learn-intelex)\n",
      "Traceback (most recent call last):\n",
      "  File \"train-spear.py\", line 480, in trainer\n",
      "    with open(args.centroids_init_path, \"rb\") as f:\n",
      "FileNotFoundError: [Errno 2] No such file or directory: './Vignettes/multiple_seeds_results/spear_Vignettes/frog_zebrafish_embryogenesis/data/frog_zebrafish_run_multi_l1_0_pe_1.0_None_seed_0'\n",
      "\n",
      "During handling of the above exception, another exception occurred:\n",
      "\n",
      "Traceback (most recent call last):\n",
      "  File \"train-spear.py\", line 985, in <module>\n",
      "    trainer(args)\n",
      "  File \"train-spear.py\", line 487, in trainer\n",
      "    with open(args.centroids_init_path, \"wb\") as f:\n",
      "FileNotFoundError: [Errno 2] No such file or directory: './Vignettes/multiple_seeds_results/spear_Vignettes/frog_zebrafish_embryogenesis/data/frog_zebrafish_run_multi_l1_0_pe_1.0_None_seed_0'\n",
      "100%|████████████████████████████████████████████| 4/4 [24:52<00:00, 373.02s/it]\n",
      "Traceback (most recent call last):\n",
      "  File \"train-spear.py\", line 480, in trainer\n",
      "    with open(args.centroids_init_path, \"rb\") as f:\n",
      "FileNotFoundError: [Errno 2] No such file or directory: './Vignettes/multiple_seeds_results/spear_Vignettes/frog_zebrafish_embryogenesis/data/frog_zebrafish_run_multi_l1_0_pe_1.0_None_seed_3'\n",
      "\n",
      "During handling of the above exception, another exception occurred:\n",
      "\n",
      "Traceback (most recent call last):\n",
      "  File \"train-spear.py\", line 985, in <module>\n",
      "    trainer(args)\n",
      "  File \"train-spear.py\", line 487, in trainer\n",
      "    with open(args.centroids_init_path, \"wb\") as f:\n",
      "FileNotFoundError: [Errno 2] No such file or directory: './Vignettes/multiple_seeds_results/spear_Vignettes/frog_zebrafish_embryogenesis/data/frog_zebrafish_run_multi_l1_0_pe_1.0_None_seed_3'\n",
      "Traceback (most recent call last):\n",
      "  File \"train-spear.py\", line 480, in trainer\n",
      "    with open(args.centroids_init_path, \"rb\") as f:\n",
      "FileNotFoundError: [Errno 2] No such file or directory: './Vignettes/multiple_seeds_results/spear_Vignettes/frog_zebrafish_embryogenesis/data/frog_zebrafish_run_multi_l1_0_pe_1.0_None_seed_1'\n",
      "\n",
      "During handling of the above exception, another exception occurred:\n",
      "\n",
      "Traceback (most recent call last):\n",
      "  File \"train-spear.py\", line 985, in <module>\n",
      "    trainer(args)\n",
      "  File \"train-spear.py\", line 487, in trainer\n",
      "    with open(args.centroids_init_path, \"wb\") as f:\n",
      "FileNotFoundError: [Errno 2] No such file or directory: './Vignettes/multiple_seeds_results/spear_Vignettes/frog_zebrafish_embryogenesis/data/frog_zebrafish_run_multi_l1_0_pe_1.0_None_seed_1'\n",
      "Traceback (most recent call last):\n",
      "  File \"train-spear.py\", line 480, in trainer\n",
      "    with open(args.centroids_init_path, \"rb\") as f:\n",
      "FileNotFoundError: [Errno 2] No such file or directory: './Vignettes/multiple_seeds_results/spear_Vignettes/frog_zebrafish_embryogenesis/data/frog_zebrafish_run_multi_l1_0_pe_1.0_None_seed_2'\n",
      "\n",
      "During handling of the above exception, another exception occurred:\n",
      "\n",
      "Traceback (most recent call last):\n",
      "  File \"train-spear.py\", line 985, in <module>\n",
      "    trainer(args)\n",
      "  File \"train-spear.py\", line 487, in trainer\n",
      "    with open(args.centroids_init_path, \"wb\") as f:\n",
      "FileNotFoundError: [Errno 2] No such file or directory: './Vignettes/multiple_seeds_results/spear_Vignettes/frog_zebrafish_embryogenesis/data/frog_zebrafish_run_multi_l1_0_pe_1.0_None_seed_2'\n"
     ]
    }
   ],
   "source": [
    "!cd ../../ ; python3 spear_multiple_seeds.py \\\n",
    "                --run=Vignettes/frog_zebrafish_embryogenesis/data/frog_zebrafish_run_multi.csv \\\n",
    "                --gpus 2 3 4 5 \\\n",
    "                --seeds=4"
   ]
  },
  {
   "cell_type": "markdown",
   "id": "606b1ad2",
   "metadata": {},
   "source": [
    "# Score the 30 seeds"
   ]
  },
  {
   "cell_type": "code",
   "execution_count": 16,
   "id": "ec190c98",
   "metadata": {},
   "outputs": [
    {
     "ename": "SyntaxError",
     "evalue": "invalid syntax (2390467696.py, line 1)",
     "output_type": "error",
     "traceback": [
      "\u001b[0;36m  Input \u001b[0;32mIn [16]\u001b[0;36m\u001b[0m\n\u001b[0;31m    We now need to score each SPEAR run. First, we create a csv file mapping each run to a path.\u001b[0m\n\u001b[0m       ^\u001b[0m\n\u001b[0;31mSyntaxError\u001b[0m\u001b[0;31m:\u001b[0m invalid syntax\n"
     ]
    }
   ],
   "source": [
    "We now need to score each SPEAR run. First, we create a csv file mapping each run to a path."
   ]
  },
  {
   "cell_type": "code",
   "execution_count": null,
   "id": "69653241",
   "metadata": {},
   "outputs": [],
   "source": [
    "from glob import glob\n",
    "\n",
    "fz_adatas = glob(\"../multiple_seeds_results/*.h5ad\")"
   ]
  },
  {
   "cell_type": "code",
   "execution_count": null,
   "id": "0b3ba64e",
   "metadata": {},
   "outputs": [],
   "source": []
  }
 ],
 "metadata": {
  "kernelspec": {
   "display_name": "Python 3 (ipykernel)",
   "language": "python",
   "name": "python3"
  },
  "language_info": {
   "codemirror_mode": {
    "name": "ipython",
    "version": 3
   },
   "file_extension": ".py",
   "mimetype": "text/x-python",
   "name": "python",
   "nbconvert_exporter": "python",
   "pygments_lexer": "ipython3",
   "version": "3.8.10"
  }
 },
 "nbformat": 4,
 "nbformat_minor": 5
}
