{
 "cells": [
  {
   "cell_type": "markdown",
   "id": "5c71cb70",
   "metadata": {},
   "source": [
    "# Replicate Figures 1, 2 and 3"
   ]
  },
  {
   "cell_type": "markdown",
   "id": "e865f227",
   "metadata": {},
   "source": [
    "To replicate SPEAR results for frog and zebrafish embryogenesis you need to run SPEAR 30 times with different seeds.\n",
    "\n",
    "To more easily do this analysis, we have provided a python script that will run SPEAR a certain number of times.\n",
    "\n",
    "\n",
    "**NOTE: run the Train Spear vignette first, `Vignettes/frog_zebrafish_embryogenesis/Train Spear.ipynb`**"
   ]
  },
  {
   "cell_type": "code",
   "execution_count": 13,
   "id": "25c53bbd",
   "metadata": {},
   "outputs": [],
   "source": [
    "# Make a path fixed copy of the run file from the vignette\n",
    "import pandas as pd\n",
    "run_df = pd.read_csv(\"data/frog_zebrafish_run.csv\")\n",
    "run_df[\"path\"] = [\"Vignettes/frog_zebrafish_embryogenesis/\" + path for path in run_df[\"path\"] ]\n",
    "run_df.to_csv(\"data/frog_zebrafish_run_multi.csv\", index=False)"
   ]
  },
  {
   "cell_type": "markdown",
   "id": "c5808127",
   "metadata": {},
   "source": [
    "# Run the 30 seeds"
   ]
  },
  {
   "cell_type": "markdown",
   "id": "ce4655d4",
   "metadata": {},
   "source": [
    "*This will take a while*"
   ]
  },
  {
   "cell_type": "code",
   "execution_count": null,
   "id": "07bba45a",
   "metadata": {
    "scrolled": true
   },
   "outputs": [
    {
     "name": "stdout",
     "output_type": "stream",
     "text": [
      "['2', '3', '4', '5']\n",
      "  0%|                                                     | 0/4 [00:00<?, ?it/s]RUNNING SEED: 0 ON GPU:2\n",
      "RUNNING SEED: 1 ON GPU:3\n",
      "RUNNING SEED: 2 ON GPU:4\n",
      "RUNNING SEED: 3 ON GPU:5\n",
      "Global seed set to 0\n",
      "Global seed set to 0\n",
      "Global seed set to 0\n",
      "Global seed set to 0\n",
      "Intel(R) Extension for Scikit-learn* enabled (https://github.com/intel/scikit-learn-intelex)\n",
      "Intel(R) Extension for Scikit-learn* enabled (https://github.com/intel/scikit-learn-intelex)\n",
      "Intel(R) Extension for Scikit-learn* enabled (https://github.com/intel/scikit-learn-intelex)\n",
      "Intel(R) Extension for Scikit-learn* enabled (https://github.com/intel/scikit-learn-intelex)\n"
     ]
    }
   ],
   "source": [
    "!cd ../../ ; python3 spear_multiple_seeds.py \\\n",
    "                --run=Vignettes/frog_zebrafish_embryogenesis/data/frog_zebrafish_run_multi.csv \\\n",
    "                --gpus 2 3 4 5 \\\n",
    "                --seeds=4"
   ]
  },
  {
   "cell_type": "markdown",
   "id": "3b811ef6",
   "metadata": {},
   "source": [
    "# Score the 30 seeds"
   ]
  },
  {
   "cell_type": "markdown",
   "id": "19eec85c",
   "metadata": {},
   "source": [
    "We now need to score each SPEAR run. First, we create a csv file mapping each run to a path."
   ]
  },
  {
   "cell_type": "code",
   "execution_count": null,
   "id": "6fac0cec",
   "metadata": {},
   "outputs": [],
   "source": [
    "from glob import glob\n",
    "\n",
    "fz_adatas = glob(\"../multiple_seeds_results/*.h5ad\")"
   ]
  },
  {
   "cell_type": "code",
   "execution_count": null,
   "id": "809a3956",
   "metadata": {},
   "outputs": [],
   "source": []
  }
 ],
 "metadata": {
  "kernelspec": {
   "display_name": "Python 3 (ipykernel)",
   "language": "python",
   "name": "python3"
  },
  "language_info": {
   "codemirror_mode": {
    "name": "ipython",
    "version": 3
   },
   "file_extension": ".py",
   "mimetype": "text/x-python",
   "name": "python",
   "nbconvert_exporter": "python",
   "pygments_lexer": "ipython3",
   "version": "3.8.10"
  }
 },
 "nbformat": 4,
 "nbformat_minor": 5
}
