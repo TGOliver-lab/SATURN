{
 "cells": [
  {
   "cell_type": "markdown",
   "id": "8e4ec040",
   "metadata": {},
   "source": [
    "# Replicate Figures 1, 2 and 3"
   ]
  },
  {
   "cell_type": "markdown",
   "id": "e7b17a70",
   "metadata": {},
   "source": [
    "To replicate SPEAR results for frog and zebrafish embryogenesis you need to run SPEAR 30 times with different seeds.\n",
    "\n",
    "To more easily do this analysis, we have provided a python script that will run SPEAR a certain number of times.\n",
    "\n",
    "\n",
    "**NOTE: run the Train Spear vignette first, `Vignettes/frog_zebrafish_embryogenesis/Train Spear.ipynb`**"
   ]
  },
  {
   "cell_type": "code",
   "execution_count": 13,
   "id": "26f0e5f5",
   "metadata": {},
   "outputs": [],
   "source": [
    "# Make a path fixed copy of the run file from the vignette\n",
    "import pandas as pd\n",
    "run_df = pd.read_csv(\"data/frog_zebrafish_run.csv\")\n",
    "run_df[\"path\"] = [\"Vignettes/frog_zebrafish_embryogenesis/\" + path for path in run_df[\"path\"] ]\n",
    "run_df.to_csv(\"data/frog_zebrafish_run_multi.csv\", index=False)"
   ]
  },
  {
   "cell_type": "markdown",
   "id": "60ec9f57",
   "metadata": {},
   "source": [
    "# Run the 30 seeds"
   ]
  },
  {
   "cell_type": "markdown",
   "id": "d8d15ad4",
   "metadata": {},
   "source": [
    "*This will take a while*"
   ]
  },
  {
   "cell_type": "code",
   "execution_count": null,
   "id": "5dbaf048",
   "metadata": {
    "scrolled": true
   },
   "outputs": [
    {
     "name": "stdout",
     "output_type": "stream",
     "text": [
      "['2', '3', '4', '5']\n",
      "  0%|                                                     | 0/4 [00:00<?, ?it/s]RUNNING SEED: 0 ON GPU:2\n",
      "RUNNING SEED: 1 ON GPU:3\n",
      "RUNNING SEED: 2 ON GPU:4\n",
      "RUNNING SEED: 3 ON GPU:5\n",
      "Global seed set to 0\n",
      "Global seed set to 0\n",
      "Global seed set to 0\n",
      "Global seed set to 0\n",
      "Intel(R) Extension for Scikit-learn* enabled (https://github.com/intel/scikit-learn-intelex)\n",
      "Intel(R) Extension for Scikit-learn* enabled (https://github.com/intel/scikit-learn-intelex)\n",
      "Intel(R) Extension for Scikit-learn* enabled (https://github.com/intel/scikit-learn-intelex)\n",
      "Intel(R) Extension for Scikit-learn* enabled (https://github.com/intel/scikit-learn-intelex)\n",
      "Epoch 200: L1 Loss 0.0 Rank Loss 12.795928955078125, Avg Loss frog: 1864, Avg Lo\n",
      "Epoch 200: L1 Loss 0.0 Rank Loss 12.251686096191406, Avg Loss frog: 1862, Avg Lo\n",
      "100%|█████████████████████████████████████████| 157/157 [00:19<00:00,  7.91it/s]\n",
      "100%|█████████████████████████████████████████| 157/157 [00:19<00:00,  8.22it/s]\n",
      "Epoch 200: L1 Loss 0.0 Rank Loss 12.111682891845703, Avg Loss frog: 1862, Avg Lo\n",
      "100%|█████████████████████████████████████████| 157/157 [00:18<00:00,  8.69it/s]\n",
      "Epoch 200: L1 Loss 0.0 Rank Loss 12.439830780029297, Avg Loss frog: 1862, Avg Lo\n",
      "100%|█████████████████████████████████████████| 157/157 [00:20<00:00,  7.78it/s]\n",
      "100%|█████████████████████████████████████████| 157/157 [00:08<00:00, 17.93it/s]\n",
      "100%|█████████████████████████████████████████| 4/4 [2:01:01<00:00, 1815.50s/it]\n",
      "100%|█████████████████████████████████████████| 157/157 [00:08<00:00, 19.59it/s]\n",
      "100%|█████████████████████████████████████████| 157/157 [00:08<00:00, 18.61it/s]\n"
     ]
    }
   ],
   "source": [
    "!cd ../../ ; python3 spear_multiple_seeds.py \\\n",
    "                --run=Vignettes/frog_zebrafish_embryogenesis/data/frog_zebrafish_run_multi.csv \\\n",
    "                --gpus 2 3 4 5 \\\n",
    "                --seeds=4"
   ]
  },
  {
   "cell_type": "markdown",
   "id": "12dbfb46",
   "metadata": {},
   "source": [
    "# Score the 30 seeds"
   ]
  },
  {
   "cell_type": "markdown",
   "id": "d1fca9d7",
   "metadata": {},
   "source": [
    "We now need to score each SPEAR run. First, we create a csv file mapping each run to a path."
   ]
  },
  {
   "cell_type": "code",
   "execution_count": null,
   "id": "b8624726",
   "metadata": {},
   "outputs": [],
   "source": [
    "from glob import glob\n",
    "\n",
    "fz_adatas = glob(\"../multiple_seeds_results/*.h5ad\")"
   ]
  },
  {
   "cell_type": "code",
   "execution_count": null,
   "id": "1c71dbba",
   "metadata": {},
   "outputs": [],
   "source": []
  }
 ],
 "metadata": {
  "kernelspec": {
   "display_name": "Python 3 (ipykernel)",
   "language": "python",
   "name": "python3"
  },
  "language_info": {
   "codemirror_mode": {
    "name": "ipython",
    "version": 3
   },
   "file_extension": ".py",
   "mimetype": "text/x-python",
   "name": "python",
   "nbconvert_exporter": "python",
   "pygments_lexer": "ipython3",
   "version": "3.8.10"
  }
 },
 "nbformat": 4,
 "nbformat_minor": 5
}
